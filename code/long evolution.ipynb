{
 "cells": [
  {
   "cell_type": "code",
   "execution_count": 1,
   "id": "603161eb",
   "metadata": {},
   "outputs": [],
   "source": [
    "import numpy as np\n",
    "\n",
    "import torch\n",
    "import quairkit as qkit\n",
    "from quairkit import to_state, Hamiltonian\n",
    "from quairkit.database import *\n",
    "from quairkit.qinfo import *\n",
    "\n",
    "import warnings\n",
    "warnings.filterwarnings('ignore')"
   ]
  },
  {
   "cell_type": "code",
   "execution_count": 2,
   "id": "3fdaf579",
   "metadata": {},
   "outputs": [
    {
     "data": {
      "text/plain": [
       "tensor([[-0.8776+0.j,  0.4794+0.j],\n",
       "        [-0.4794+0.j, -0.8776+0.j]])"
      ]
     },
     "execution_count": 2,
     "metadata": {},
     "output_type": "execute_result"
    }
   ],
   "source": [
    "ry(1+ 2 * np.pi)"
   ]
  },
  {
   "cell_type": "code",
   "execution_count": 3,
   "id": "cc4b3d31",
   "metadata": {},
   "outputs": [
    {
     "data": {
      "text/plain": [
       "tensor([[-0.8776+0.j,  0.4794+0.j,  0.0000+0.j,  0.0000+0.j],\n",
       "        [-0.4794+0.j, -0.8776+0.j,  0.0000+0.j,  0.0000+0.j],\n",
       "        [ 0.0000+0.j,  0.0000+0.j, -0.8776+0.j,  0.4794+0.j],\n",
       "        [ 0.0000+0.j,  0.0000+0.j, -0.4794+0.j, -0.8776+0.j]])"
      ]
     },
     "execution_count": 3,
     "metadata": {},
     "output_type": "execute_result"
    }
   ],
   "source": [
    "cir = qkit.Circuit(2)\n",
    "cir.ry(1, param=1 + 2 * np.pi)\n",
    "cir.matrix"
   ]
  },
  {
   "cell_type": "code",
   "execution_count": 4,
   "id": "7e594f69",
   "metadata": {},
   "outputs": [],
   "source": [
    "import os\n",
    "import sys\n",
    "module_path = os.path.abspath(os.path.join('..'))\n",
    "if module_path not in sys.path:\n",
    "    sys.path.append(module_path)\n",
    "\n",
    "from qsp import *\n",
    "from qite import *"
   ]
  },
  {
   "cell_type": "code",
   "execution_count": 5,
   "id": "fe38eb9c",
   "metadata": {},
   "outputs": [],
   "source": [
    "from math import sqrt\n",
    "from scipy.stats import norm\n",
    "\n",
    "def mean_and_error(n_pos: int, n_neg: int, confidence: float = 0.95):\n",
    "    n = n_pos + n_neg\n",
    "    if n <= 0:\n",
    "        raise ValueError(\"n_pos + n_neg must be positive.\")\n",
    "    if not (0.0 < confidence < 1.0):\n",
    "        raise ValueError(\"confidence must be in (0, 1).\")\n",
    "\n",
    "    mean = (n_pos - n_neg) / n\n",
    "    se = sqrt(max(0.0, 1.0 - mean * mean) / n)  # guard against tiny negative due to rounding\n",
    "    z = norm.ppf((1.0 + confidence) / 2.0)\n",
    "    error = z * se\n",
    "    return mean, error"
   ]
  },
  {
   "cell_type": "code",
   "execution_count": 6,
   "id": "4092a55e",
   "metadata": {},
   "outputs": [],
   "source": [
    "import matplotlib.pyplot as plt\n",
    "from mpl_toolkits.axes_grid1.inset_locator import inset_axes\n",
    "\n",
    "font_family = 'STIXGeneral'\n",
    "plt.rcParams['mathtext.fontset'] = 'cm'\n",
    "plt.rcParams['font.family'] = font_family\n",
    "plt.rcParams[\"font.size\"] = 18"
   ]
  },
  {
   "cell_type": "code",
   "execution_count": 7,
   "id": "329fb023",
   "metadata": {},
   "outputs": [],
   "source": [
    "qkit.set_dtype('complex128')\n",
    "revise_tol(1e-40)"
   ]
  },
  {
   "cell_type": "markdown",
   "id": "514c74eb",
   "metadata": {},
   "source": [
    "## Experiment setting"
   ]
  },
  {
   "cell_type": "markdown",
   "id": "6f788868",
   "metadata": {},
   "source": [
    "prepare Hamiltonian"
   ]
  },
  {
   "cell_type": "code",
   "execution_count": 8,
   "id": "4984c660",
   "metadata": {},
   "outputs": [],
   "source": [
    "num_qubits = 5\n",
    "\n",
    "H_init = afm_heisenberg(n=num_qubits)\n",
    "H = normalize(H_init, factor=np.abs(H_init.coefficients).sum())  # normalize the Hamiltonian"
   ]
  },
  {
   "cell_type": "code",
   "execution_count": 9,
   "id": "f75e1baf",
   "metadata": {},
   "outputs": [
    {
     "name": "stdout",
     "output_type": "stream",
     "text": [
      "ground state energy = -0.7319715633294984\n"
     ]
    }
   ],
   "source": [
    "eigvals, eigvecs = torch.linalg.eigh(H.matrix)\n",
    "\n",
    "ground_state_energy = eigvals[0].item()\n",
    "ground_state = to_state(eigvecs[:, 0])\n",
    "\n",
    "print(f'ground state energy = {ground_state_energy}')"
   ]
  },
  {
   "cell_type": "markdown",
   "id": "316ca218",
   "metadata": {},
   "source": [
    "Prepare input state as the computational state with the smallest non-zero overlap with the ground state"
   ]
  },
  {
   "cell_type": "code",
   "execution_count": 10,
   "id": "6bb6f9c8",
   "metadata": {},
   "outputs": [
    {
     "name": "stdout",
     "output_type": "stream",
     "text": [
      "The state overlap between input state and ground state is 0.04798860730154218\n"
     ]
    }
   ],
   "source": [
    "small_index = torch.argmin(torch.where(torch.abs(eigvecs[:, 0]) > 1e-10, torch.abs(eigvecs[:, 0]), 1)).item()\n",
    "phi_state = computational_state(index=small_index, system_dim=2 ** num_qubits)\n",
    "\n",
    "gamma = torch.abs(phi_state.bra @ ground_state.ket).item()\n",
    "print(f'The state overlap between input state and ground state is {gamma}')"
   ]
  },
  {
   "cell_type": "markdown",
   "id": "3cad1c7a",
   "metadata": {},
   "source": [
    "Prepare evolution operator"
   ]
  },
  {
   "cell_type": "code",
   "execution_count": 11,
   "id": "5ecb1cf9",
   "metadata": {},
   "outputs": [],
   "source": [
    "U = torch.matrix_exp(-1j * H.matrix)"
   ]
  },
  {
   "cell_type": "markdown",
   "id": "425a7e2d",
   "metadata": {},
   "source": [
    "## Compute data"
   ]
  },
  {
   "cell_type": "code",
   "execution_count": 12,
   "id": "1585431f",
   "metadata": {},
   "outputs": [],
   "source": [
    "list_tau = list(np.arange(50, 4, -3))\n",
    "\n",
    "list_probability, list_E_hat_tau = [], []"
   ]
  },
  {
   "cell_type": "code",
   "execution_count": 13,
   "id": "7a89adcc",
   "metadata": {},
   "outputs": [],
   "source": [
    "proj = nkron(zero_state(1).bra, eye(2 ** (num_qubits)))\n",
    "input_state = nkron(zero_state(1), phi_state)\n",
    "\n",
    "for tau in list_tau:\n",
    "    deg = max(50, even_floor(0.056 * (tau**3) -4.47 * (tau**2) + 121.36 * tau - 500))\n",
    "    guess_lambda = -ground_state_energy + 1 / tau\n",
    "\n",
    "    list_theta, list_phi = qite.get_qpp_angle(guess_lambda=guess_lambda, tau=tau, deg=deg, learn=False)\n",
    "    \n",
    "    cir = qpp_cir(list_theta, list_phi, U)\n",
    "    output_state = proj @ cir(input_state).ket\n",
    "    state_norm = torch.linalg.norm(output_state).item()\n",
    "    \n",
    "    list_probability.append(state_norm**2)\n",
    "    output_state = output_state / state_norm\n",
    "\n",
    "    output_state = to_state(output_state)\n",
    "    list_E_hat_tau.append((output_state.bra @ H.matrix @ output_state.ket).real.item())"
   ]
  },
  {
   "cell_type": "markdown",
   "id": "167adb85",
   "metadata": {},
   "source": [
    "We also provide saved data to save computation time."
   ]
  },
  {
   "cell_type": "code",
   "execution_count": 14,
   "id": "12bb670d",
   "metadata": {},
   "outputs": [],
   "source": [
    "# list_tau, list_E_hat_tau, list_probability = np.load('data/figure2a_data.npy')"
   ]
  },
  {
   "cell_type": "markdown",
   "id": "a32699c3",
   "metadata": {},
   "source": [
    "## Plot"
   ]
  },
  {
   "cell_type": "code",
   "execution_count": 15,
   "id": "1c90229a",
   "metadata": {},
   "outputs": [],
   "source": [
    "probability_lower_bound = 0.85**2 * np.exp(-2) * np.abs(gamma)**2"
   ]
  },
  {
   "cell_type": "code",
   "execution_count": 16,
   "id": "8b446824",
   "metadata": {},
   "outputs": [
    {
     "data": {
      "image/png": "[encoded data removed]",
      "text/plain": [
       "<Figure size 640x480 with 2 Axes>"
      ]
     },
     "metadata": {},
     "output_type": "display_data"
    }
   ],
   "source": [
    "# Font size for labels and titles\n",
    "fontsize = 18\n",
    "\n",
    "# Plot the energy vs imaginary time\n",
    "plt.plot(list_tau, list_E_hat_tau, 'o-', label=r'$\\hat{E}(\\tau)$', linewidth=3, markersize=8)\n",
    "\n",
    "# Draw a horizontal line at the minimum eigenvalue (ground state energy)\n",
    "plt.axhline(y=ground_state_energy, color='r', linestyle='--', label=r'Ground-state energy')\n",
    "\n",
    "# Set axis labels\n",
    "plt.xlabel(r'Imaginary time $\\tau$', fontsize=fontsize)\n",
    "plt.ylabel('Energy', fontsize=fontsize)\n",
    "\n",
    "# Add legend to the main plot\n",
    "plt.legend(loc='upper right', fontsize=fontsize)\n",
    "\n",
    "plt.xticks([5, 20, 35, 50])\n",
    "# Define custom y-ticks for better readability\n",
    "# yticks0 = [-0.47, -0.49, -0.51]\n",
    "# plt.yticks(yticks0, [f'${tick:.2f}$' for tick in yticks0])\n",
    "plt.tick_params(labelsize=13)  # Increase tick label size\n",
    "\n",
    "# Fix lower y-limit for consistency\n",
    "# plt.ylim(-0.524, None)\n",
    "\n",
    "# Create an inset axes for projection to zero state\n",
    "ax_inset = inset_axes(plt.gca(), width=\"40%\", height=\"40%\", loc='center right')\n",
    "\n",
    "# Plot the projection to the zero state over imaginary time\n",
    "ax_inset.plot(list_tau, list_probability, '-', color='C1', linewidth=2)\n",
    "\n",
    "# Draw a horizontal line indicating the theoretical bound\n",
    "ax_inset.axhline(y=probability_lower_bound, color='r', linestyle='--')\n",
    "\n",
    "# Set y-ticks for the inset plot\n",
    "# Ensure that projection_bound is a scalar value\n",
    "ax_inset.set_yticks([probability_lower_bound])\n",
    "ax_inset.set_yticklabels([r'$\\alpha^2 e^{-2} \\gamma^2$'])\n",
    "\n",
    "# Adjust font size of tick labels in the inset\n",
    "ax_inset.tick_params(labelsize=13)\n",
    "\n",
    "# Display the final figure\n",
    "plt.show()"
   ]
  },
  {
   "cell_type": "markdown",
   "id": "e3f45c14",
   "metadata": {},
   "source": [
    "---"
   ]
  },
  {
   "cell_type": "code",
   "execution_count": 17,
   "id": "cf89e26f",
   "metadata": {},
   "outputs": [
    {
     "name": "stdout",
     "output_type": "stream",
     "text": [
      "\n",
      "---------VERSION---------\n",
      "quairkit: 0.4.3\n",
      "torch: 2.8.0+cu128\n",
      "torch cuda: 12.8\n",
      "numpy: 2.3.3\n",
      "scipy: 1.16.2\n",
      "matplotlib: 3.10.6\n",
      "---------SYSTEM---------\n",
      "Python version: 3.13.7\n",
      "OS: Linux\n",
      "OS version: #63-Ubuntu SMP PREEMPT_DYNAMIC Tue Apr 15 19:04:15 UTC 2025\n",
      "---------DEVICE---------\n",
      "CPU:  AMD EPYC 9654 96-Core Processor\n",
      "GPU: (0) NVIDIA GeForce RTX 4090\n",
      "     (0) NVIDIA GeForce RTX 4090\n"
     ]
    }
   ],
   "source": [
    "qkit.print_info()"
   ]
  }
 ],
 "metadata": {
  "kernelspec": {
   "display_name": "qite2",
   "language": "python",
   "name": "python3"
  },
  "language_info": {
   "codemirror_mode": {
    "name": "ipython",
    "version": 3
   },
   "file_extension": ".py",
   "mimetype": "text/x-python",
   "name": "python",
   "nbconvert_exporter": "python",
   "pygments_lexer": "ipython3",
   "version": "3.13.7"
  }
 },
 "nbformat": 4,
 "nbformat_minor": 5
}
