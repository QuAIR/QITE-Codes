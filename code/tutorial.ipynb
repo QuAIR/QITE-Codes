{
 "cells": [
  {
   "cell_type": "markdown",
   "id": "fd35b0ab",
   "metadata": {},
   "source": [
    "# Quantum Imaginary Time Evolution (QITE)\n",
    "\n",
    "**Table of Contents**\n",
    "\n",
    "- [Introduction](#Introduction)\n",
    "- [Hamiltonian and Initial State](#Hamiltonian-and-Initial-State)\n",
    "- [QITE](#QITE)\n"
   ]
  },
  {
   "cell_type": "markdown",
   "id": "228b197c",
   "metadata": {},
   "source": [
    "## Introduction"
   ]
  },
  {
   "cell_type": "markdown",
   "id": "72880114",
   "metadata": {},
   "source": [
    "In this tutorial, we will introduce how to simulate the imaginary-time evolution of quantum systems. The approach is grounded in a quantum algorithm that can efficiently model many-body quantum systems and approximate their ground state energies within polynomial time. Specifically, our focus lies on finding the ground state of a quantum system through Imaginary Time Evolution (ITE). This process is not only crucial for understanding quantum phase transitions but also plays a pivotal role in solving NP-hard problems such as the 3D Ising model and QMA-complete problems like those described by the Heisenberg model.\n",
    "\n",
    "The imaginary-time evolution of quantum many-body systems is governed by the imaginary-time Schrödinger equation: \n",
    "$$\n",
    "\\partial_\\tau|\\phi(\\tau)\\rangle = -H|\\phi(\\tau)\\rangle\n",
    ",$$\n",
    "where $\\tau$ denotes imaginary time and $H$ is the time-independent Hamiltonian with an initial state $|\\phi\\rangle=|\\phi(0)\\rangle$. Our goal is to prepare a normalized imaginary-time evolved state \n",
    "$$\n",
    "|\\phi(\\tau)\\rangle=e^{-\\tau H}|\\phi\\rangle / \\|e^{-\\tau H}|\\phi\\rangle\\|\n",
    "$$\n",
    "on a quantum computer—a process known as ITE operation. For sufficiently large $\\tau$, the system state typically converges to the ground state within the subspace induced by the initial state, often coinciding with the ground state of the Hamiltonian."
   ]
  },
  {
   "cell_type": "code",
   "execution_count": 1,
   "id": "d3819d7a",
   "metadata": {},
   "outputs": [],
   "source": [
    "import numpy as np\n",
    "import torch\n",
    "\n",
    "import quairkit as qkit\n",
    "from quairkit import to_state, Hamiltonian\n",
    "from quairkit.database import *\n",
    "from quairkit.qinfo import *\n",
    "\n",
    "import os\n",
    "import sys\n",
    "module_path = os.path.abspath(os.path.join('..'))\n",
    "if module_path not in sys.path:\n",
    "    sys.path.append(module_path)\n",
    "\n",
    "from qsp import *\n",
    "from qite import *\n",
    "\n",
    "import warnings\n",
    "\n",
    "revise_tol(1e-40)\n",
    "\n",
    "qkit.set_dtype('complex128')"
   ]
  },
  {
   "cell_type": "code",
   "execution_count": 2,
   "id": "f052151f",
   "metadata": {},
   "outputs": [],
   "source": [
    "warnings.filterwarnings('ignore')"
   ]
  },
  {
   "cell_type": "markdown",
   "id": "b413b254",
   "metadata": {},
   "source": [
    "## Hamiltonian and Initial State"
   ]
  },
  {
   "cell_type": "markdown",
   "id": "7ff996e7",
   "metadata": {},
   "source": [
    "To streamline the analysis, we make the following assumptions regarding the system's Hamiltonian and initial state:\n",
    "\n",
    "1. **Hamiltonian Form**: The Hamiltonian $H$ consists of a linear combination of Pauli operators, i.e., $H=\\sum_j h_j\\sigma_j$, where $h_j$ are real coefficients. By appropriately rescaling and shifting the Hamiltonian, we ensure its eigenvalues lie within the interval $[-1, 1]$, with the ground state energy $\\lambda_0$ being negative.\n",
    "2. **Non-zero Spectral Gap**: We assume there exists a strictly positive spectral gap $\\Delta=\\lambda_1-\\lambda_0>0$, indicating a unique ground state.\n",
    "3. **Sufficient Imaginary Time Parameter**: The imaginary time parameter $\\tau$ must be sufficiently large to satisfy certain polynomial conditions such as $|\\lambda_0| \\cdot poly(\\tau) \\gg 1$, $|\\gamma|^2 \\cdot poly(\\tau) \\gg 1$, and $\\Delta \\cdot \\tau \\gg 1$, where $\\gamma=\\langle\\psi_0|\\phi\\rangle$ represents the overlap between the initial state $|\\phi\\rangle$ and the ground state $|\\psi_0\\rangle$.\n",
    "4. **Positive Overlap Parameter**: The overlap parameter $\\gamma=\\langle\\psi_0|\\phi\\rangle$ is positive, ensuring that the initial state contains components of the ground state.\n",
    "5. **Finite Copies of Initial State**: Access to a finite number of copies of the initial state $|\\phi\\rangle$ is assumed.\n",
    "\n",
    "These assumptions ensure the feasibility and theoretical foundation of the algorithm while simplifying practical implementation complexities. In the following sections, we will detail how to leverage these assumptions and background knowledge to write relevant code for simulating imaginary-time evolution of quantum systems."
   ]
  },
  {
   "cell_type": "markdown",
   "id": "6c8a3441",
   "metadata": {},
   "source": [
    "The hamiltonian we used in experiment is \n",
    "$$\n",
    "H = \\beta\\sum_j-(X_jX_{j+1}+Y_jY_{j+1}+Z_jZ_{j+1})-\\frac{\\beta}{2}\\sum_{j}^{}Z_j\n",
    "$$"
   ]
  },
  {
   "cell_type": "code",
   "execution_count": 3,
   "id": "6376c9d2",
   "metadata": {},
   "outputs": [],
   "source": [
    "def hamiltonian_heisenberg(n=6, hz=1, hx=0, hy=0, hzz=1, hxx=1, hyy=1):\n",
    "    pauli_terms = []\n",
    "\n",
    "    # Single-qubit terms\n",
    "    for i in range(n):\n",
    "        if hx != 0:\n",
    "            pauli_terms.append([hx, f'X{i}'])\n",
    "        if hy != 0:\n",
    "            pauli_terms.append([hy, f'Y{i}'])\n",
    "        if hz != 0:\n",
    "            pauli_terms.append([hz, f'Z{i}'])\n",
    "\n",
    "    # Two-qubit terms (OBC)\n",
    "    for i in range(n - 1):\n",
    "        if hxx != 0:\n",
    "            pauli_terms.append([hxx, f'X{i}, X{i + 1}'])\n",
    "        if hyy != 0:\n",
    "            pauli_terms.append([hyy, f'Y{i}, Y{i + 1}'])\n",
    "        if hzz != 0:\n",
    "            pauli_terms.append([hzz, f'Z{i}, Z{i + 1}'])\n",
    "\n",
    "    return Hamiltonian(pauli_terms)"
   ]
  },
  {
   "cell_type": "markdown",
   "id": "5f87597f",
   "metadata": {},
   "source": [
    "Get normalized Hamiltonian and initial state."
   ]
  },
  {
   "cell_type": "code",
   "execution_count": 4,
   "id": "b635042b",
   "metadata": {},
   "outputs": [],
   "source": [
    "qb_num = 4\n",
    "\n",
    "H_init = hamiltonian_heisenberg(n=qb_num, hx=-0.5, hz=0, hxx=-1, hyy=-1, hzz=-1)\n",
    "max_abs_eigen = (torch.linalg.eigvalsh(H_init.matrix)).abs().max()\n",
    "\n",
    "new_pauli_string = [[coef / max_abs_eigen, pauli_str]\n",
    "                    for coef, pauli_str in H_init.pauli_str]\n",
    "H = Hamiltonian(new_pauli_string)\n",
    "\n",
    "phi = zero_state(qb_num)"
   ]
  },
  {
   "cell_type": "code",
   "execution_count": 5,
   "id": "183a7ef4",
   "metadata": {},
   "outputs": [
    {
     "name": "stdout",
     "output_type": "stream",
     "text": [
      "min_eigenvector = tensor([-0.2500+0.j, -0.2500+0.j, -0.2500+0.j, -0.2500+0.j, -0.2500+0.j, -0.2500+0.j,\n",
      "        -0.2500+0.j, -0.2500+0.j, -0.2500+0.j, -0.2500+0.j, -0.2500+0.j, -0.2500+0.j,\n",
      "        -0.2500+0.j, -0.2500+0.j, -0.2500+0.j, -0.2500+0.j])\n",
      "min_eigenvec = -0.7735026918962583\n",
      "gamma = tensor([[-0.2500+0.j]])\n"
     ]
    }
   ],
   "source": [
    "eigenvalues, eigenvectors = torch.linalg.eigh(H.matrix)\n",
    "\n",
    "min_eigen = eigenvalues.real.min()\n",
    "min_index = torch.argmin(min_eigen)\n",
    "\n",
    "min_eigenvector = eigenvectors[:, min_index]\n",
    "print(f'min_eigenvector = {min_eigenvector}')\n",
    "print(f'min_eigenvec = {min_eigen}')\n",
    "\n",
    "min_eigenvector_state = to_state(min_eigenvector)\n",
    "\n",
    "gamma = phi.bra @ min_eigenvector_state.ket\n",
    "print(f'gamma = {gamma}')"
   ]
  },
  {
   "cell_type": "code",
   "execution_count": 6,
   "id": "cee2e63b",
   "metadata": {},
   "outputs": [],
   "source": [
    "sorted_indices = torch.argsort(eigenvalues.real)\n",
    "\n",
    "smallest_indices = sorted_indices[:3]\n",
    "smallest_eigenvalues = eigenvalues[smallest_indices]\n",
    "\n",
    "smallest_eigenvector = eigenvectors[:, smallest_indices[0]]\n",
    "second_smallest_eigenvector = eigenvectors[:, smallest_indices[1]]\n",
    "third_smallest_eigenvector = eigenvectors[:, smallest_indices[2]]\n",
    "smallest_eigenvector_state = to_state(smallest_eigenvector)\n",
    "second_smallest_eigenvector_state = to_state(second_smallest_eigenvector)\n",
    "third_smallest_eigenvector_state = to_state(third_smallest_eigenvector)"
   ]
  },
  {
   "cell_type": "markdown",
   "id": "69781bc8",
   "metadata": {},
   "source": [
    "## QITE"
   ]
  },
  {
   "cell_type": "markdown",
   "id": "bf8e7870",
   "metadata": {},
   "source": [
    "Set initial data for QITE: $\\tau$ and deg."
   ]
  },
  {
   "cell_type": "code",
   "execution_count": 7,
   "id": "5864c5ba",
   "metadata": {},
   "outputs": [],
   "source": [
    "tau = 20\n",
    "deg = 300"
   ]
  },
  {
   "cell_type": "markdown",
   "id": "e40357dd",
   "metadata": {},
   "source": [
    "We have set up two interfaces. The first one is `only_P`; if it is set to `True`, the simulation of QITE will be directly carried out using the Laurent polynomial, otherwise, the QPP (Quantum Polynomial Protocol) will be used. The second interface is `learn`, which allows us to learn and further optimize the angles in QPP."
   ]
  },
  {
   "cell_type": "code",
   "execution_count": 8,
   "id": "7cd22d63",
   "metadata": {},
   "outputs": [],
   "source": [
    "learn = False"
   ]
  },
  {
   "cell_type": "markdown",
   "id": "879ab0b4",
   "metadata": {},
   "source": [
    "Using QPE to get normalized lambda value within $1 / \\tau$. Here, we directly provide this value and get the QPP angle. "
   ]
  },
  {
   "cell_type": "code",
   "execution_count": 9,
   "id": "b215da22",
   "metadata": {},
   "outputs": [
    {
     "name": "stdout",
     "output_type": "stream",
     "text": [
      "Computations of angles for QPP are completed with mean error 0.0018916676320003326\n"
     ]
    }
   ],
   "source": [
    "normalized_lambda = -min_eigen.item() + 1 / tau\n",
    "\n",
    "list_theta, list_phi = get_qpp_angle(guess_lambda=normalized_lambda, tau=tau, deg=deg, learn=learn)"
   ]
  },
  {
   "cell_type": "markdown",
   "id": "f1cc19fb",
   "metadata": {},
   "source": [
    "Using the oracle to get the QPP circuit. Here, we used the ideal evolution operator instead of Trotter form."
   ]
  },
  {
   "cell_type": "code",
   "execution_count": 10,
   "id": "c5a0ee7a",
   "metadata": {},
   "outputs": [],
   "source": [
    "U = torch.matrix_exp(-1j * H.matrix)\n",
    "cir = qpp_cir(list_theta, list_phi, U)"
   ]
  },
  {
   "cell_type": "markdown",
   "id": "af7b80b0",
   "metadata": {},
   "source": [
    "Considering the ancilla qubit, we have output state. The projection probability is the probability of measuring the ancilla qubit in the $|0\\rangle$ state after applying the quantum circuit. In other words, it corresponds to the squared norm of the component of the output state where the ancilla is in the $|0\\rangle$ state."
   ]
  },
  {
   "cell_type": "code",
   "execution_count": 11,
   "id": "f86ede4d",
   "metadata": {},
   "outputs": [],
   "source": [
    "cir.collapse([0], post_selection=0, if_print=True)"
   ]
  },
  {
   "cell_type": "code",
   "execution_count": 12,
   "id": "7228f877",
   "metadata": {},
   "outputs": [
    {
     "name": "stdout",
     "output_type": "stream",
     "text": [
      "systems [0] collapse to the state |0> with (average) probability 0.0062952880666984476\n"
     ]
    }
   ],
   "source": [
    "input_state = nkron(zero_state(1), phi)\n",
    "output_state = cir(input_state)"
   ]
  },
  {
   "cell_type": "markdown",
   "id": "2d63ffd1",
   "metadata": {},
   "source": [
    "The final normalized output state is obtained by dividing the output state by its norm."
   ]
  },
  {
   "cell_type": "code",
   "execution_count": 13,
   "id": "e6e87a7e",
   "metadata": {},
   "outputs": [
    {
     "name": "stdout",
     "output_type": "stream",
     "text": [
      "fidelity = 0.9962542188017928\n"
     ]
    }
   ],
   "source": [
    "fidelity = state_fidelity(output_state.trace(0), min_eigenvector_state)\n",
    "print(f'fidelity = {fidelity}')"
   ]
  },
  {
   "cell_type": "markdown",
   "id": "bcfa8c11",
   "metadata": {},
   "source": [
    "---"
   ]
  },
  {
   "cell_type": "code",
   "execution_count": 14,
   "id": "1361bd68",
   "metadata": {},
   "outputs": [
    {
     "name": "stdout",
     "output_type": "stream",
     "text": [
      "\n",
      "---------VERSION---------\n",
      "quairkit: 0.4.0\n",
      "torch: 2.7.0+cpu\n",
      "numpy: 1.26.0\n",
      "scipy: 1.14.1\n",
      "matplotlib: 3.10.0\n",
      "---------SYSTEM---------\n",
      "Python version: 3.10.16\n",
      "OS: Windows\n",
      "OS version: 10.0.26100\n",
      "---------DEVICE---------\n",
      "CPU: ARMv8 (64-bit) Family 8 Model 1 Revision 201, Qualcomm Technologies Inc\n"
     ]
    }
   ],
   "source": [
    "qkit.print_info()"
   ]
  }
 ],
 "metadata": {
  "kernelspec": {
   "display_name": "quair",
   "language": "python",
   "name": "python3"
  },
  "language_info": {
   "codemirror_mode": {
    "name": "ipython",
    "version": 3
   },
   "file_extension": ".py",
   "mimetype": "text/x-python",
   "name": "python",
   "nbconvert_exporter": "python",
   "pygments_lexer": "ipython3",
   "version": "3.10.16"
  }
 },
 "nbformat": 4,
 "nbformat_minor": 5
}
